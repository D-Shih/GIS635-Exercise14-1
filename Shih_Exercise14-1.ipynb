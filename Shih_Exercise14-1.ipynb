{
 "cells": [
  {
   "cell_type": "code",
   "execution_count": 1,
   "metadata": {},
   "outputs": [],
   "source": [
    "# Exercise 14.1\n",
    "# Read in text from a file, find given pattern and replace it with \n",
    "#     given replacement pattern, then write it to an output file"
   ]
  },
  {
   "cell_type": "code",
   "execution_count": 2,
   "metadata": {},
   "outputs": [],
   "source": [
    "def sed (p,r,filein,fileout):\n",
    "    try:\n",
    "        fin = open(filein, 'r', encoding='utf8')\n",
    "    except:\n",
    "        print(\"Error opening file: \" + str(filein))     \n",
    "    try:\n",
    "        fout = open(fileout,'w', encoding='utf8')      \n",
    "    except:\n",
    "        print(\"Error opening file: \" + str(filout))\n",
    "        \n",
    "    for line in fin:\n",
    "        line = line.replace(p,r)\n",
    "        fout.write(line)\n",
    "    \n",
    "    fout.close()"
   ]
  },
  {
   "cell_type": "code",
   "execution_count": 3,
   "metadata": {},
   "outputs": [],
   "source": [
    "sed(\"Alice\",\"Lisa\",\"aliceinwonderland_1.txt\",\"Shih_Exercise14-1_output.txt\")"
   ]
  },
  {
   "cell_type": "code",
   "execution_count": null,
   "metadata": {},
   "outputs": [],
   "source": []
  },
  {
   "cell_type": "code",
   "execution_count": null,
   "metadata": {},
   "outputs": [],
   "source": []
  }
 ],
 "metadata": {
  "kernelspec": {
   "display_name": "geo_env",
   "language": "python",
   "name": "geo_env"
  },
  "language_info": {
   "codemirror_mode": {
    "name": "ipython",
    "version": 3
   },
   "file_extension": ".py",
   "mimetype": "text/x-python",
   "name": "python",
   "nbconvert_exporter": "python",
   "pygments_lexer": "ipython3",
   "version": "3.7.8"
  }
 },
 "nbformat": 4,
 "nbformat_minor": 4
}
